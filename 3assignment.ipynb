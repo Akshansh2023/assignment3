{
 "cells": [
  {
   "cell_type": "code",
   "execution_count": null,
   "id": "778d3fe8-1dcb-465d-9de0-8f0bcc7b60e4",
   "metadata": {},
   "outputs": [],
   "source": [
    "Q1. Explain with an example each when to use a for loop and a while loop.\n"
   ]
  },
  {
   "cell_type": "code",
   "execution_count": null,
   "id": "5d38a999-4af6-4644-b670-5291313ae231",
   "metadata": {},
   "outputs": [],
   "source": [
    "for loops is used when you have definite itteration (the number of iterations is known).\n",
    " example => print the numbers from 0 to 9\n",
    "for i in range(10):\n",
    "    print(i)\n",
    "output \n",
    "0\n",
    "1\n",
    "2\n",
    "3\n",
    "4\n",
    "5\n",
    "6\n",
    "7\n",
    "8\n",
    "9\n",
    "---------------\n",
    "But While loops are used when you want to keep executing a block of code as long as a certain condition is met.\n",
    "example => print the numbers from 0 to 9\n",
    "i = 0\n",
    "while i < 10:\n",
    "    print(i)\n",
    "    i += 1\n",
    "output\n",
    "0\n",
    "1\n",
    "2\n",
    "3\n",
    "4\n",
    "5\n",
    "6\n",
    "7\n",
    "8\n",
    "9"
   ]
  },
  {
   "cell_type": "code",
   "execution_count": null,
   "id": "bf7a6332-b9d2-4998-ad84-8553f043aac3",
   "metadata": {},
   "outputs": [],
   "source": [
    "Q2. Write a python program to print the sum and product of the first 10 natural numbers using for\n",
    "and while loop.\n",
    "answer => "
   ]
  },
  {
   "cell_type": "code",
   "execution_count": 3,
   "id": "91817836-c90a-4b94-8bfc-f464162702fb",
   "metadata": {},
   "outputs": [
    {
     "name": "stdout",
     "output_type": "stream",
     "text": [
      "For first 10 natural Natural number is: Sum =55 and Product is = 3628800 \n"
     ]
    }
   ],
   "source": [
    "\n",
    "    # using For Loop\n",
    "    sum=0\n",
    "    product=1\n",
    "    for i in range(1,11):\n",
    "        sum+= i\n",
    "        product *= i\n",
    "    print(f\"For first 10 natural Natural number  Sum is ={sum} and Product is = {product} \")"
   ]
  },
  {
   "cell_type": "code",
   "execution_count": 11,
   "id": "fb76f834-396c-4e95-88e9-5ba5482cf324",
   "metadata": {},
   "outputs": [
    {
     "name": "stdout",
     "output_type": "stream",
     "text": [
      "For first 10 natural Natural number Sum is =55 and Product is = 3628800 \n"
     ]
    }
   ],
   "source": [
    "    #using while Loop \n",
    "    sum = 0\n",
    "    product = 1\n",
    "    i = 1\n",
    "    while i <= 10:\n",
    "        sum += i\n",
    "        product *= i\n",
    "        i += 1\n",
    "    print(f\"For first 10 natural Natural number Sum is ={sum} and Product is = {product} \")  "
   ]
  },
  {
   "cell_type": "code",
   "execution_count": null,
   "id": "8dbf4815-a6b0-4e3d-bebb-f5e3597ed132",
   "metadata": {},
   "outputs": [],
   "source": [
    "Q3. Create a python program to compute the electricity bill for a household. The per-unit charges in rupees are as follows: For the first 100 units, the user will be charged Rs. 4.5 per unit, for the next 100 units, the user will be charged Rs. 6 per unit, and for the next 100 units, the user will be charged Rs. 10 per unit, After 300 units and above the user will be charged Rs. 20 per unit. You are required to take the units of electricity consumed in a month from the user as input. Your program must pass this test case: when the unit of electricity consumed by the user in a month is 310, the total electricity bill should be 2250."
   ]
  },
  {
   "cell_type": "code",
   "execution_count": 12,
   "id": "daee238c-bc36-4d74-bd17-d6108aa339e0",
   "metadata": {},
   "outputs": [
    {
     "name": "stdin",
     "output_type": "stream",
     "text": [
      "Enter the units of electricity consumed:  435\n"
     ]
    },
    {
     "name": "stdout",
     "output_type": "stream",
     "text": [
      "The total electricity bill is: Rs. 4750.0\n"
     ]
    }
   ],
   "source": [
    "units = int(input(\"Enter the units of electricity consumed: \"))\n",
    "\n",
    "if units <= 100:\n",
    "    bill = units * 4.5\n",
    "elif units <= 200:\n",
    "    bill = 100 * 4.5 + (units - 100) * 6\n",
    "elif units <= 300:\n",
    "    bill = 100 * 4.5 + 100 * 6 + (units - 200) * 10\n",
    "else:\n",
    "    bill = 100 * 4.5 + 100 * 6 + 100 * 10 + (units - 300) * 20\n",
    "\n",
    "print(\"The total electricity bill is: Rs.\", bill)"
   ]
  },
  {
   "cell_type": "code",
   "execution_count": null,
   "id": "86efbfe7-9991-4d2b-90ae-1d168d1dc771",
   "metadata": {},
   "outputs": [],
   "source": [
    "Q4. Create a list of numbers from 1 to 100. Use for loop and while loop to calculate the cube of each number and if the cube of that number is divisible by 4 or 5 then append that number in a list and print that list."
   ]
  },
  {
   "cell_type": "code",
   "execution_count": 14,
   "id": "6699539f-47dc-48db-a634-a59672d56f48",
   "metadata": {},
   "outputs": [
    {
     "name": "stdout",
     "output_type": "stream",
     "text": [
      "The list of  the cubes that are divisible by 4 or 5: [8, 64, 125, 216, 512, 1000, 1728, 2744, 3375, 4096, 5832, 8000, 10648, 13824, 15625, 17576, 21952, 27000, 32768, 39304, 42875, 46656, 54872, 64000, 74088, 85184, 91125, 97336, 110592, 125000, 140608, 157464, 166375, 175616, 195112, 216000, 238328, 262144, 274625, 287496, 314432, 343000, 373248, 405224, 421875, 438976, 474552, 512000, 551368, 592704, 614125, 636056, 681472, 729000, 778688, 830584, 857375, 884736, 941192, 1000000]\n"
     ]
    }
   ],
   "source": [
    "# answer 1.0\n",
    "# By using For Loop \n",
    "numbers = []\n",
    "cubedivisible = []\n",
    "\n",
    "for i in range(1, 101):\n",
    "    numbers.append(i)\n",
    "    cube = i ** 3\n",
    "    if cube % 4 == 0 or cube % 5 == 0:\n",
    "        cubedivisible.append(cube)\n",
    "\n",
    "print(\"The list of the cubes that are divisible by 4 or 5:\", cubedivisible)"
   ]
  },
  {
   "cell_type": "code",
   "execution_count": 15,
   "id": "c1f9c08c-06a5-4efa-aa53-1c1e59b09b4f",
   "metadata": {},
   "outputs": [
    {
     "name": "stdout",
     "output_type": "stream",
     "text": [
      "The list of the cubes that are divisible by 4 or 5: [8, 64, 125, 216, 512, 1000, 1728, 2744, 3375, 4096, 5832, 8000, 10648, 13824, 15625, 17576, 21952, 27000, 32768, 39304, 42875, 46656, 54872, 64000, 74088, 85184, 91125, 97336, 110592, 125000, 140608, 157464, 166375, 175616, 195112, 216000, 238328, 262144, 274625, 287496, 314432, 343000, 373248, 405224, 421875, 438976, 474552, 512000, 551368, 592704, 614125, 636056, 681472, 729000, 778688, 830584, 857375, 884736, 941192, 1000000]\n"
     ]
    }
   ],
   "source": [
    "# answer 1.1\n",
    "# By using while Loop \n",
    "numbers = []\n",
    "cubedivisible = []\n",
    "i = 1\n",
    "\n",
    "while i <= 100:\n",
    "    numbers.append(i)\n",
    "    cube = i ** 3\n",
    "    if cube % 4 == 0 or cube % 5 == 0:\n",
    "        cubedivisible.append(cube)\n",
    "    i += 1\n",
    "\n",
    "print(\"The list of the cubes that are divisible by 4 or 5:\", cubedivisible)"
   ]
  },
  {
   "cell_type": "code",
   "execution_count": null,
   "id": "3224a6ec-9145-44b9-bb61-76ac0efefa8f",
   "metadata": {},
   "outputs": [],
   "source": [
    "Q5. Write a program to filter count vowels in the below-given string.\n",
    "string = \"I want to become a data scientist\""
   ]
  },
  {
   "cell_type": "code",
   "execution_count": 24,
   "id": "f2fc1382-ff5c-495a-90f9-dd142f4b3225",
   "metadata": {},
   "outputs": [
    {
     "name": "stdout",
     "output_type": "stream",
     "text": [
      "The number of vowels in the string is: 12\n"
     ]
    }
   ],
   "source": [
    "# answer \n",
    "string = \"I want to become a data scientist\"\n",
    "vowels = \"AEIOUaeiou\"\n",
    "count = 0\n",
    "\n",
    "for char in string:\n",
    "    if char in vowels:\n",
    "        count += 1\n",
    "\n",
    "print(\"The number of vowels in the string is:\", count)"
   ]
  },
  {
   "cell_type": "code",
   "execution_count": null,
   "id": "a219af68-cbc5-4db6-811d-64f9a9f31c9a",
   "metadata": {},
   "outputs": [],
   "source": []
  },
  {
   "cell_type": "code",
   "execution_count": null,
   "id": "6c790404-ea78-4f30-92bd-23e81569dbaa",
   "metadata": {},
   "outputs": [],
   "source": []
  },
  {
   "cell_type": "code",
   "execution_count": null,
   "id": "6179b7a3-6ca4-4417-b55a-e4318785426c",
   "metadata": {},
   "outputs": [],
   "source": []
  },
  {
   "cell_type": "code",
   "execution_count": null,
   "id": "e5f40b68-b45b-4d60-8e44-a7778db5c7a8",
   "metadata": {},
   "outputs": [],
   "source": []
  },
  {
   "cell_type": "code",
   "execution_count": null,
   "id": "f9b8cb9a-b647-45c6-9810-d27b57486ddd",
   "metadata": {},
   "outputs": [],
   "source": []
  },
  {
   "cell_type": "code",
   "execution_count": null,
   "id": "0704ebb7-f01b-4077-958f-a2b066c6b9fe",
   "metadata": {},
   "outputs": [],
   "source": []
  },
  {
   "cell_type": "code",
   "execution_count": null,
   "id": "8b63188f-83e4-4937-a671-a7a9e26efe6d",
   "metadata": {},
   "outputs": [],
   "source": []
  },
  {
   "cell_type": "code",
   "execution_count": null,
   "id": "6b81cb93-5e4f-42cf-b11d-f4b21384e70c",
   "metadata": {},
   "outputs": [],
   "source": []
  },
  {
   "cell_type": "code",
   "execution_count": null,
   "id": "4edf13d9-0d25-44d5-be72-7f872e45ae02",
   "metadata": {},
   "outputs": [],
   "source": []
  },
  {
   "cell_type": "code",
   "execution_count": null,
   "id": "8becc305-fdba-49ff-a543-2062da6d026c",
   "metadata": {},
   "outputs": [],
   "source": []
  }
 ],
 "metadata": {
  "kernelspec": {
   "display_name": "Python 3 (ipykernel)",
   "language": "python",
   "name": "python3"
  },
  "language_info": {
   "codemirror_mode": {
    "name": "ipython",
    "version": 3
   },
   "file_extension": ".py",
   "mimetype": "text/x-python",
   "name": "python",
   "nbconvert_exporter": "python",
   "pygments_lexer": "ipython3",
   "version": "3.10.8"
  }
 },
 "nbformat": 4,
 "nbformat_minor": 5
}
